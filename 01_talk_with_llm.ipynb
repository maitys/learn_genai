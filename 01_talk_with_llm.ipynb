{
 "cells": [
  {
   "cell_type": "markdown",
   "id": "39a73331",
   "metadata": {},
   "source": [
    "<div style=\"\n",
    "    font-family: 'DM Sans', sans-serif;\n",
    "    font-size: 24px;\n",
    "    font-weight: bold;\n",
    "    color: #ff5733; \n",
    "    background-color: #f5f5dc; \n",
    "    padding: 10px; \n",
    "    border-radius: 10px;\n",
    "    text-align: center;\n",
    "    box-shadow: 3px 3px 10px rgba(0, 0, 0, 0.2);\">\n",
    "    1 - Talk with LLM<br> \n",
    "</div>\n"
   ]
  },
  {
   "cell_type": "code",
   "execution_count": null,
   "id": "e9045a56",
   "metadata": {},
   "outputs": [],
   "source": [
    "from IPython.core.interactiveshell import InteractiveShell\n",
    "InteractiveShell.ast_node_interactivity = \"all\""
   ]
  },
  {
   "cell_type": "code",
   "execution_count": null,
   "id": "a2d5589d",
   "metadata": {},
   "outputs": [],
   "source": [
    "import os\n",
    "from dotenv import load_dotenv\n",
    "load_dotenv()\n",
    "openai_api_key = os.getenv(\"OPENAI_API_KEY\")\n",
    "groq_api_key = os.getenv(\"GROQ_API_KEY\")"
   ]
  },
  {
   "cell_type": "code",
   "execution_count": null,
   "id": "a69ceb09",
   "metadata": {},
   "outputs": [],
   "source": [
    "# https://python.langchain.com/docs/integrations/llms/\n",
    "\n",
    "# Completion Model\n",
    "from langchain_openai import OpenAI\n",
    "llm_model = OpenAI(\n",
    "    openai_api_key=openai_api_key,\n",
    "    model=\"gpt-3.5-turbo-instruct\",\n",
    "    temperature=0.7,\n",
    "    max_tokens=1000)\n",
    "\n",
    "response = llm_model.invoke(\"What is the capital of India?\")\n",
    "print(response)\n",
    "\n",
    "for chunk in llm_model.stream(\"What is the financial capital of India? Tell me 2 bullet points about it\"):\n",
    "    print(chunk, end=\"\", flush=True)"
   ]
  },
  {
   "cell_type": "code",
   "execution_count": null,
   "id": "645a78b3",
   "metadata": {},
   "outputs": [],
   "source": [
    "# Chat Model\n",
    "from langchain_openai import ChatOpenAI\n",
    "llm_model = ChatOpenAI(\n",
    "    openai_api_key=openai_api_key,\n",
    "    model=\"o3-mini\")\n",
    "\n",
    "messages = [\n",
    "    {\"role\": \"system\", \"content\": \"You are a helpful assistant.\"},\n",
    "    {\"role\": \"user\", \"content\": \"What is the capital of India?\"}\n",
    "]\n",
    "\n",
    "result = llm_model.invoke(messages)\n",
    "type(result)\n",
    "print(\"*\" * 20)\n",
    "type(result.content)\n",
    "print(\"*\" * 20)\n",
    "print(result)\n",
    "print(\"*\" * 20)\n",
    "print(result.content)\n",
    "print(\"*\" * 20)\n",
    "print(result.model_json_schema())"
   ]
  },
  {
   "cell_type": "code",
   "execution_count": null,
   "id": "c301d869",
   "metadata": {},
   "outputs": [],
   "source": [
    "# Chat Model\n",
    "from langchain_groq import ChatGroq\n",
    "llm_model = ChatGroq(\n",
    "    groq_api_key=groq_api_key,\n",
    "    model=\"mistral-saba-24b\")\n",
    "\n",
    "messages = [\n",
    "    {\"role\": \"system\", \"content\": \"You are a helpful assistant.\"},\n",
    "    {\"role\": \"user\", \"content\": \"What is the financial capital of India? Write 2 bullet points about it.\"}\n",
    "]\n",
    "\n",
    "result = llm_model.invoke(messages)\n",
    "type(result)\n",
    "print(\"*\" * 20)\n",
    "type(result.content)\n",
    "print(\"*\" * 20)\n",
    "print(result)\n",
    "print(\"*\" * 20)\n",
    "print(result.content)\n",
    "print(\"*\" * 20)\n",
    "print(result.model_json_schema())"
   ]
  },
  {
   "cell_type": "code",
   "execution_count": null,
   "id": "22015f6b",
   "metadata": {},
   "outputs": [],
   "source": [
    "# Resume at lecture 17"
   ]
  }
 ],
 "metadata": {
  "kernelspec": {
   "display_name": "study_env1_311",
   "language": "python",
   "name": "python3"
  },
  "language_info": {
   "codemirror_mode": {
    "name": "ipython",
    "version": 3
   },
   "file_extension": ".py",
   "mimetype": "text/x-python",
   "name": "python",
   "nbconvert_exporter": "python",
   "pygments_lexer": "ipython3",
   "version": "3.11.11"
  }
 },
 "nbformat": 4,
 "nbformat_minor": 5
}
